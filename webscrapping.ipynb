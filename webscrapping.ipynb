{
 "cells": [
  {
   "cell_type": "code",
   "execution_count": 3,
   "metadata": {},
   "outputs": [],
   "source": [
    "import pandas as pd\n",
    "import requests\n",
    "from bs4 import BeautifulSoup\n",
    "import csv"
   ]
  },
  {
   "cell_type": "code",
   "execution_count": 4,
   "metadata": {},
   "outputs": [],
   "source": [
    "page = requests.get('https://www.premierleague.com/stats').content\n",
    "soup = BeautifulSoup(page,'html.parser')\n"
   ]
  },
  {
   "cell_type": "code",
   "execution_count": 5,
   "metadata": {},
   "outputs": [
    {
     "data": {
      "text/plain": [
       "[<a class=\"top-stats__button global-btn\" href=\"/stats/top/players/goals?se=578\">\n",
       "           View Full List\n",
       " \t<svg aria-hidden=\"true\" class=\"icon\">\n",
       " <use xlink:href=\"https://www.premierleague.com/resources/rebrand/v7.147.3/i/svg-output/icons.svg#icn-arrow-right\" xmlns:xlink=\"http://www.w3.org/1999/xlink\"></use>\n",
       " </svg>\n",
       " </a>,\n",
       " <a class=\"top-stats__button global-btn\" href=\"/stats/top/players/goal_assist?se=578\">\n",
       "           View Full List\n",
       " \t<svg aria-hidden=\"true\" class=\"icon\">\n",
       " <use xlink:href=\"https://www.premierleague.com/resources/rebrand/v7.147.3/i/svg-output/icons.svg#icn-arrow-right\" xmlns:xlink=\"http://www.w3.org/1999/xlink\"></use>\n",
       " </svg>\n",
       " </a>,\n",
       " <a class=\"top-stats__button global-btn\" href=\"/stats/top/players/total_pass?se=578\">\n",
       "           View Full List\n",
       " \t<svg aria-hidden=\"true\" class=\"icon\">\n",
       " <use xlink:href=\"https://www.premierleague.com/resources/rebrand/v7.147.3/i/svg-output/icons.svg#icn-arrow-right\" xmlns:xlink=\"http://www.w3.org/1999/xlink\"></use>\n",
       " </svg>\n",
       " </a>,\n",
       " <a class=\"top-stats__button global-btn\" href=\"/stats/top/players/clean_sheet?po=GOALKEEPER&amp;se=578\">\n",
       "           View Full List\n",
       " \t<svg aria-hidden=\"true\" class=\"icon\">\n",
       " <use xlink:href=\"https://www.premierleague.com/resources/rebrand/v7.147.3/i/svg-output/icons.svg#icn-arrow-right\" xmlns:xlink=\"http://www.w3.org/1999/xlink\"></use>\n",
       " </svg>\n",
       " </a>,\n",
       " <a class=\"top-stats__button global-btn\" href=\"/stats/top/clubs/goals?se=578\">\n",
       "           View Full List\n",
       " \t<svg aria-hidden=\"true\" class=\"icon\">\n",
       " <use xlink:href=\"https://www.premierleague.com/resources/rebrand/v7.147.3/i/svg-output/icons.svg#icn-arrow-right\" xmlns:xlink=\"http://www.w3.org/1999/xlink\"></use>\n",
       " </svg>\n",
       " </a>,\n",
       " <a class=\"top-stats__button global-btn\" href=\"/stats/top/clubs/total_tackle?se=578\">\n",
       "           View Full List\n",
       " \t<svg aria-hidden=\"true\" class=\"icon\">\n",
       " <use xlink:href=\"https://www.premierleague.com/resources/rebrand/v7.147.3/i/svg-output/icons.svg#icn-arrow-right\" xmlns:xlink=\"http://www.w3.org/1999/xlink\"></use>\n",
       " </svg>\n",
       " </a>,\n",
       " <a class=\"top-stats__button global-btn\" href=\"/stats/top/clubs/wins?se=578\">\n",
       "           View Full List\n",
       " \t<svg aria-hidden=\"true\" class=\"icon\">\n",
       " <use xlink:href=\"https://www.premierleague.com/resources/rebrand/v7.147.3/i/svg-output/icons.svg#icn-arrow-right\" xmlns:xlink=\"http://www.w3.org/1999/xlink\"></use>\n",
       " </svg>\n",
       " </a>,\n",
       " <a class=\"top-stats__button global-btn\" href=\"/stats/top/clubs/losses?se=578\">\n",
       "           View Full List\n",
       " \t<svg aria-hidden=\"true\" class=\"icon\">\n",
       " <use xlink:href=\"https://www.premierleague.com/resources/rebrand/v7.147.3/i/svg-output/icons.svg#icn-arrow-right\" xmlns:xlink=\"http://www.w3.org/1999/xlink\"></use>\n",
       " </svg>\n",
       " </a>]"
      ]
     },
     "execution_count": 5,
     "metadata": {},
     "output_type": "execute_result"
    }
   ],
   "source": [
    "link = soup.find_all('a',class_='top-stats__button global-btn',href= True)\n",
    "link"
   ]
  },
  {
   "cell_type": "code",
   "execution_count": 9,
   "metadata": {},
   "outputs": [],
   "source": [
    "links = []\n",
    "for a in link:\n",
    "    links.append('https://www.premierleague.com'+a['href'])"
   ]
  },
  {
   "cell_type": "code",
   "execution_count": 27,
   "metadata": {},
   "outputs": [
    {
     "data": {
      "text/plain": [
       "['https://www.premierleague.com/stats/top/clubs/total_tackle?se=578',\n",
       " 'https://www.premierleague.com/stats/top/players/clean_sheet?po=GOALKEEPER&se=578',\n",
       " 'https://www.premierleague.com/stats/top/players/total_pass?se=578',\n",
       " 'https://www.premierleague.com/stats/top/clubs/wins?se=578',\n",
       " 'https://www.premierleague.com/stats/top/clubs/losses?se=578',\n",
       " 'https://www.premierleague.com/stats/top/players/goal_assist?se=578',\n",
       " 'https://www.premierleague.com/stats/top/players/goals?se=578',\n",
       " 'https://www.premierleague.com/stats/top/clubs/goals?se=578']"
      ]
     },
     "execution_count": 27,
     "metadata": {},
     "output_type": "execute_result"
    }
   ],
   "source": [
    "links = list(set(links))\n",
    "links"
   ]
  },
  {
   "cell_type": "code",
   "execution_count": 28,
   "metadata": {},
   "outputs": [
    {
     "data": {
      "text/plain": [
       "['https://www.premierleague.com/stats/top/players/clean_sheet?po=GOALKEEPER&se=578',\n",
       " 'https://www.premierleague.com/stats/top/players/total_pass?se=578',\n",
       " 'https://www.premierleague.com/stats/top/players/goal_assist?se=578',\n",
       " 'https://www.premierleague.com/stats/top/players/goals?se=578']"
      ]
     },
     "execution_count": 28,
     "metadata": {},
     "output_type": "execute_result"
    }
   ],
   "source": [
    "filtered_links=[link for link in links if 'https://www.premierleague.com/stats/top/players/' in link]\n",
    "filtered_links"
   ]
  },
  {
   "cell_type": "code",
   "execution_count": 29,
   "metadata": {},
   "outputs": [
    {
     "name": "stdout",
     "output_type": "stream",
     "text": [
      "https://www.premierleague.com/stats/top/players/clean_sheet?po=GOALKEEPER&se=578\n",
      "https://www.premierleague.com/stats/top/players/total_pass?se=578\n",
      "https://www.premierleague.com/stats/top/players/goal_assist?se=578\n",
      "https://www.premierleague.com/stats/top/players/goals?se=578\n"
     ]
    }
   ],
   "source": [
    "\n",
    "def generate_filename(link):\n",
    "    return link.split('/')[-1].replace('?', '_').replace('&', '_').replace('=', '_') + '.csv'\n",
    "\n",
    "\n",
    "for link in filtered_links:\n",
    "    print(link)\n",
    "    webpage=requests.get(link).content\n",
    "    soup=BeautifulSoup(webpage,'html')\n",
    "    tableclass=soup.find('div',class_='table statsTable stats-table')\n",
    "    table_data = tableclass.find('table')\n",
    "    header = table_data.find('thead')\n",
    "    header = [head.text for head in header.find_all('th')]\n",
    "    header= header[:-1]\n",
    "    data = table_data.find('tbody')\n",
    "    datas = []\n",
    "    for i in data.find_all('tr'):\n",
    "        row = [j.text for j in i.find_all('td')]\n",
    "        datas.append(row)\n",
    "\n",
    "    cleaned_data = [[x.strip() for x in sublist] for sublist in datas]\n",
    "    cleaned_data = [sublist[:-1] for sublist in cleaned_data]\n",
    "    \n",
    "\n",
    "    filename = generate_filename(link)\n",
    "    with open(filename, 'w', newline='') as csvfile:\n",
    "        csv_writer = csv.writer(csvfile)\n",
    "        csv_writer.writerow(header)\n",
    "        csv_writer.writerows(cleaned_data)\n",
    "    \n",
    "\n",
    "    "
   ]
  },
  {
   "cell_type": "code",
   "execution_count": null,
   "metadata": {},
   "outputs": [],
   "source": []
  }
 ],
 "metadata": {
  "kernelspec": {
   "display_name": "Python 3 (ipykernel)",
   "language": "python",
   "name": "python3"
  },
  "language_info": {
   "codemirror_mode": {
    "name": "ipython",
    "version": 3
   },
   "file_extension": ".py",
   "mimetype": "text/x-python",
   "name": "python",
   "nbconvert_exporter": "python",
   "pygments_lexer": "ipython3",
   "version": "3.12.3"
  }
 },
 "nbformat": 4,
 "nbformat_minor": 4
}
